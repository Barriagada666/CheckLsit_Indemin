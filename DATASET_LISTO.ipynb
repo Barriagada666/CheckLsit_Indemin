{
  "nbformat": 4,
  "nbformat_minor": 0,
  "metadata": {
    "colab": {
      "provenance": [],
      "authorship_tag": "ABX9TyOcBAL7Bw9bHvcAjfu64QlW",
      "include_colab_link": true
    },
    "kernelspec": {
      "name": "python3",
      "display_name": "Python 3"
    },
    "language_info": {
      "name": "python"
    }
  },
  "cells": [
    {
      "cell_type": "markdown",
      "metadata": {
        "id": "view-in-github",
        "colab_type": "text"
      },
      "source": [
        "<a href=\"https://colab.research.google.com/github/Barriagada666/CheckLsit_Indemin/blob/master/DATASET_LISTO.ipynb\" target=\"_parent\"><img src=\"https://colab.research.google.com/assets/colab-badge.svg\" alt=\"Open In Colab\"/></a>"
      ]
    },
    {
      "cell_type": "code",
      "execution_count": 11,
      "metadata": {
        "colab": {
          "base_uri": "https://localhost:8080/"
        },
        "id": "sNKw3dWQpXt8",
        "outputId": "2fde1b92-d702-4019-a26b-576a7e3a4740"
      },
      "outputs": [
        {
          "output_type": "stream",
          "name": "stdout",
          "text": [
            "<class 'pandas.core.frame.DataFrame'>\n",
            "RangeIndex: 79157 entries, 0 to 79156\n",
            "Data columns (total 30 columns):\n",
            " #   Column                       Non-Null Count  Dtype  \n",
            "---  ------                       --------------  -----  \n",
            " 0   Unnamed: 0                   79157 non-null  int64  \n",
            " 1   Map                          79157 non-null  object \n",
            " 2   Team                         79155 non-null  object \n",
            " 3   InternalTeamId               79157 non-null  int64  \n",
            " 4   MatchId                      79157 non-null  int64  \n",
            " 5   RoundId                      79157 non-null  int64  \n",
            " 6   RoundWinner                  79157 non-null  object \n",
            " 7   MatchWinner                  79156 non-null  object \n",
            " 8   Survived                     79157 non-null  bool   \n",
            " 9   AbnormalMatch                79157 non-null  bool   \n",
            " 10  TimeAlive                    79157 non-null  object \n",
            " 11  TravelledDistance            79157 non-null  object \n",
            " 12  RLethalGrenadesThrown        79157 non-null  int64  \n",
            " 13  RNonLethalGrenadesThrown     79157 non-null  int64  \n",
            " 14  PrimaryAssaultRifle          79157 non-null  float64\n",
            " 15  PrimarySniperRifle           79157 non-null  float64\n",
            " 16  PrimaryHeavy                 79157 non-null  float64\n",
            " 17  PrimarySMG                   79157 non-null  float64\n",
            " 18  PrimaryPistol                79157 non-null  int64  \n",
            " 19  FirstKillTime                79157 non-null  object \n",
            " 20  RoundKills                   79157 non-null  int64  \n",
            " 21  RoundAssists                 79157 non-null  int64  \n",
            " 22  RoundHeadshots               79157 non-null  int64  \n",
            " 23  RoundFlankKills              79157 non-null  int64  \n",
            " 24  RoundStartingEquipmentValue  79157 non-null  int64  \n",
            " 25  TeamStartingEquipmentValue   79157 non-null  int64  \n",
            " 26  MatchKills                   79157 non-null  int64  \n",
            " 27  MatchFlankKills              79157 non-null  int64  \n",
            " 28  MatchAssists                 79157 non-null  int64  \n",
            " 29  MatchHeadshots               79157 non-null  int64  \n",
            "dtypes: bool(2), float64(4), int64(17), object(7)\n",
            "memory usage: 17.1+ MB\n"
          ]
        }
      ],
      "source": [
        "import pandas as pd\n",
        "import numpy as np\n",
        "import matplotlib.pyplot as plt\n",
        "import seaborn as sns\n",
        "from sklearn.linear_model import LinearRegression\n",
        "from sklearn.preprocessing import PolynomialFeatures\n",
        "from sklearn.model_selection import train_test_split\n",
        "df = pd.read_csv(\"/content/ET_demo_round_traces_2022.csv\", sep =\";\", dtype={6:str,7:str})\n",
        "df.info()\n"
      ]
    },
    {
      "cell_type": "code",
      "source": [],
      "metadata": {
        "id": "zYD9xZgvqBwc"
      },
      "execution_count": null,
      "outputs": []
    }
  ]
}